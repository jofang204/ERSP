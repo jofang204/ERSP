{
 "cells": [
  {
   "cell_type": "code",
   "execution_count": 28,
   "metadata": {},
   "outputs": [],
   "source": [
    "import sys\n",
    "def parse(fname):\n",
    "    for l in open(fname):\n",
    "        yield str(l)               \n",
    "data = parse('./GSE12276_family.soft')\n",
    "\n",
    "title = \"Gene Title\"\n",
    "symbol = \"Gene Symbol\"\n",
    "title_index = 0\n",
    "symbol_index = 0\n",
    "\n"
   ]
  },
  {
   "cell_type": "code",
   "execution_count": 29,
   "metadata": {},
   "outputs": [
    {
     "name": "stdout",
     "output_type": "stream",
     "text": [
      "['ID', 'GB_ACC', 'SPOT_ID', 'Species Scientific Name', 'Annotation Date', 'Sequence Type', 'Sequence Source', 'Target Description', 'Representative Public ID', 'Gene Title', 'Gene Symbol', 'ENTREZ_GENE_ID', 'RefSeq Transcript ID', 'Gene Ontology Biological Process', 'Gene Ontology Cellular Component', 'Gene Ontology Molecular Function\\n']\n"
     ]
    }
   ],
   "source": [
    "for line in data:\n",
    "    if \"!platform_table_begin\" in line:\n",
    "        line = next(data).split('\\t')\n",
    "        print(line)\n",
    "        title_index = line.index(title)\n",
    "        symbol_index = line.index(symbol)"
   ]
  },
  {
   "cell_type": "code",
   "execution_count": 30,
   "metadata": {},
   "outputs": [
    {
     "data": {
      "text/plain": [
       "9"
      ]
     },
     "execution_count": 30,
     "metadata": {},
     "output_type": "execute_result"
    }
   ],
   "source": []
  },
  {
   "cell_type": "code",
   "execution_count": null,
   "metadata": {
    "collapsed": true
   },
   "outputs": [],
   "source": [
    "flag = True\n",
    "gene_description ={}\n",
    "sampleID = []\n",
    "while flag:\n",
    "    l = next(data)\n",
    "    if \"!Series_sample_id\" in l:\n",
    "        sampleID.append(l.split(\" = \")[1].rstrip('\\n'))\n",
    "    elif l=='!platform_table_begin\\n':\n",
    "        flag = 'g'\n",
    "        l = next(data)\n",
    "    elif l=='!platform_table_end\\n':\n",
    "        flag = False\n",
    "    if flag == 'g':\n",
    "        line = l.split(\"\\t\")\n",
    "        probeid = line[0]\n",
    "        geneTitle = line[9]\n",
    "        geneSymbol = line[10]\n",
    "        gene_description[probeid] = geneSymbol+\": \"+geneTitle"
   ]
  },
  {
   "cell_type": "code",
   "execution_count": 40,
   "metadata": {},
   "outputs": [],
   "source": [
    "gene_description\n",
    "sampleID = '\\t'.join(sampleID)"
   ]
  },
  {
   "cell_type": "code",
   "execution_count": 45,
   "metadata": {
    "collapsed": true
   },
   "outputs": [],
   "source": [
    "toWrite = open(\"Test\", 'w')\n",
    "header = \"ProbeID\"+'\\t'+'Name'+'\\t'+sampleID\n",
    "toWrite.write(header)\n",
    "toWrite.write('\\n')\n",
    "for l in gene_description:\n",
    "    if l == \"ID\":\n",
    "        continue\n",
    "    toWrite.write(\"\\t\".join([l,gene_description[l]]))\n",
    "    toWrite.write('\\n')"
   ]
  },
  {
   "cell_type": "code",
   "execution_count": 43,
   "metadata": {
    "collapsed": true
   },
   "outputs": [],
   "source": []
  },
  {
   "cell_type": "code",
   "execution_count": null,
   "metadata": {},
   "outputs": [],
   "source": []
  },
  {
   "cell_type": "code",
   "execution_count": null,
   "metadata": {
    "collapsed": true
   },
   "outputs": [],
   "source": []
  }
 ],
 "metadata": {
  "kernelspec": {
   "display_name": "Python 3",
   "language": "python",
   "name": "python3"
  },
  "language_info": {
   "codemirror_mode": {
    "name": "ipython",
    "version": 3
   },
   "file_extension": ".py",
   "mimetype": "text/x-python",
   "name": "python",
   "nbconvert_exporter": "python",
   "pygments_lexer": "ipython3",
   "version": "3.6.0"
  }
 },
 "nbformat": 4,
 "nbformat_minor": 2
}
